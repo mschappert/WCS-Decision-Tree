{
  "nbformat": 4,
  "nbformat_minor": 0,
  "metadata": {
    "colab": {
      "provenance": [],
      "authorship_tag": "ABX9TyNmviz7l/cgtl2NUTNywe97",
      "include_colab_link": true
    },
    "kernelspec": {
      "name": "python3",
      "display_name": "Python 3"
    },
    "language_info": {
      "name": "python"
    },
    "widgets": {
      "application/vnd.jupyter.widget-state+json": {
        "5089c44c320941f890cbe8a56edac459": {
          "model_module": "@jupyter-widgets/controls",
          "model_name": "VBoxModel",
          "model_module_version": "1.5.0",
          "state": {
            "_dom_classes": [],
            "_model_module": "@jupyter-widgets/controls",
            "_model_module_version": "1.5.0",
            "_model_name": "VBoxModel",
            "_view_count": null,
            "_view_module": "@jupyter-widgets/controls",
            "_view_module_version": "1.5.0",
            "_view_name": "VBoxView",
            "box_style": "",
            "children": [
              "IPY_MODEL_7ee2da04150e4f23831064f694732b42",
              "IPY_MODEL_e77f75bdf2e84621870c1be019db025c",
              "IPY_MODEL_7c6dd9135b484960b07871606cff629d",
              "IPY_MODEL_47634c9433ba4d5da33ec83e5d423abe"
            ],
            "layout": "IPY_MODEL_85946b267fe4478bb25720819410f21e"
          }
        },
        "7ee2da04150e4f23831064f694732b42": {
          "model_module": "@jupyter-widgets/controls",
          "model_name": "LabelModel",
          "model_module_version": "1.5.0",
          "state": {
            "_dom_classes": [],
            "_model_module": "@jupyter-widgets/controls",
            "_model_module_version": "1.5.0",
            "_model_name": "LabelModel",
            "_view_count": null,
            "_view_module": "@jupyter-widgets/controls",
            "_view_module_version": "1.5.0",
            "_view_name": "LabelView",
            "description": "",
            "description_tooltip": null,
            "layout": "IPY_MODEL_98a2547695984f44a41482762aff3705",
            "placeholder": "​",
            "style": "IPY_MODEL_4186940421144967a7f544316f941c21",
            "value": "Search:"
          }
        },
        "e77f75bdf2e84621870c1be019db025c": {
          "model_module": "@jupyter-widgets/controls",
          "model_name": "TextModel",
          "model_module_version": "1.5.0",
          "state": {
            "_dom_classes": [],
            "_model_module": "@jupyter-widgets/controls",
            "_model_module_version": "1.5.0",
            "_model_name": "TextModel",
            "_view_count": null,
            "_view_module": "@jupyter-widgets/controls",
            "_view_module_version": "1.5.0",
            "_view_name": "TextView",
            "continuous_update": true,
            "description": "",
            "description_tooltip": null,
            "disabled": false,
            "layout": "IPY_MODEL_b0833bcfebad4b988fe863b38264d9ee",
            "placeholder": "Enter keyword(s)",
            "style": "IPY_MODEL_7f28d6d213754a89a1f3e6c4573348b9",
            "value": "sea water quality"
          }
        },
        "7c6dd9135b484960b07871606cff629d": {
          "model_module": "@jupyter-widgets/controls",
          "model_name": "ButtonModel",
          "model_module_version": "1.5.0",
          "state": {
            "_dom_classes": [],
            "_model_module": "@jupyter-widgets/controls",
            "_model_module_version": "1.5.0",
            "_model_name": "ButtonModel",
            "_view_count": null,
            "_view_module": "@jupyter-widgets/controls",
            "_view_module_version": "1.5.0",
            "_view_name": "ButtonView",
            "button_style": "",
            "description": "Search",
            "disabled": false,
            "icon": "",
            "layout": "IPY_MODEL_c650113386fb450bb028ecd126f276de",
            "style": "IPY_MODEL_56a4186d148d49ad9fd2e194210a8cc4",
            "tooltip": ""
          }
        },
        "47634c9433ba4d5da33ec83e5d423abe": {
          "model_module": "@jupyter-widgets/output",
          "model_name": "OutputModel",
          "model_module_version": "1.0.0",
          "state": {
            "_dom_classes": [],
            "_model_module": "@jupyter-widgets/output",
            "_model_module_version": "1.0.0",
            "_model_name": "OutputModel",
            "_view_count": null,
            "_view_module": "@jupyter-widgets/output",
            "_view_module_version": "1.0.0",
            "_view_name": "OutputView",
            "layout": "IPY_MODEL_3a3dd46eeb0049ba966882fcdf2cbebd",
            "msg_id": "",
            "outputs": [
              {
                "output_type": "display_data",
                "data": {
                  "text/plain": "                      Variable     Type      Habitat  Extent  \\\n0                  Ocean Color   Raster       Marine  Global   \n2      Sea Surface Temperature   Raster       Marine  Global   \n3   Particulate Organic Carbon   Raster       Marine  Global   \n4                Hourly Runoff   Raster     Riparian  Global   \n7        Sea Surface Elevation   Raster       Marine  Global   \n8            Water Temperature   Raster       Marine  Global   \n9                     Salinity   Raster       Marine  Global   \n13                   Elevation   Raster  Terrestrial  Global   \n14               Surface Water   Raster     Riparian  Global   \n16          Sea-Level Pressure  NetCDF4       Marine  Global   \n17     Global sea level change  NetCDF5       Marine  Global   \n\n                                                 Link  \n0   https://oceandata.sci.gsfc.nasa.gov/directdata...  \n2   https://oceandata.sci.gsfc.nasa.gov/directdata...  \n3   https://oceandata.sci.gsfc.nasa.gov/directdata...  \n4   https://cds.climate.copernicus.eu/cdsapp#!/dat...  \n7                https://www.hycom.org/data/glbv0pt08  \n8   https://www.hycom.org/component/search/?search...  \n9   https://www.hycom.org/component/search/?search...  \n13  https://cmr.earthdata.nasa.gov/search/concepts...  \n14          https://global-surface-water.appspot.com/  \n16  https://psl.noaa.gov/mddb2/makePlot.html?varia...  \n17  https://cds.climate.copernicus.eu/cdsapp#!/dat...  ",
                  "text/html": "\n  <div id=\"df-43529849-6465-4c6a-84e8-402f89ef9374\" class=\"colab-df-container\">\n    <div>\n<style scoped>\n    .dataframe tbody tr th:only-of-type {\n        vertical-align: middle;\n    }\n\n    .dataframe tbody tr th {\n        vertical-align: top;\n    }\n\n    .dataframe thead th {\n        text-align: right;\n    }\n</style>\n<table border=\"1\" class=\"dataframe\">\n  <thead>\n    <tr style=\"text-align: right;\">\n      <th></th>\n      <th>Variable</th>\n      <th>Type</th>\n      <th>Habitat</th>\n      <th>Extent</th>\n      <th>Link</th>\n    </tr>\n  </thead>\n  <tbody>\n    <tr>\n      <th>0</th>\n      <td>Ocean Color</td>\n      <td>Raster</td>\n      <td>Marine</td>\n      <td>Global</td>\n      <td>https://oceandata.sci.gsfc.nasa.gov/directdata...</td>\n    </tr>\n    <tr>\n      <th>2</th>\n      <td>Sea Surface Temperature</td>\n      <td>Raster</td>\n      <td>Marine</td>\n      <td>Global</td>\n      <td>https://oceandata.sci.gsfc.nasa.gov/directdata...</td>\n    </tr>\n    <tr>\n      <th>3</th>\n      <td>Particulate Organic Carbon</td>\n      <td>Raster</td>\n      <td>Marine</td>\n      <td>Global</td>\n      <td>https://oceandata.sci.gsfc.nasa.gov/directdata...</td>\n    </tr>\n    <tr>\n      <th>4</th>\n      <td>Hourly Runoff</td>\n      <td>Raster</td>\n      <td>Riparian</td>\n      <td>Global</td>\n      <td>https://cds.climate.copernicus.eu/cdsapp#!/dat...</td>\n    </tr>\n    <tr>\n      <th>7</th>\n      <td>Sea Surface Elevation</td>\n      <td>Raster</td>\n      <td>Marine</td>\n      <td>Global</td>\n      <td>https://www.hycom.org/data/glbv0pt08</td>\n    </tr>\n    <tr>\n      <th>8</th>\n      <td>Water Temperature</td>\n      <td>Raster</td>\n      <td>Marine</td>\n      <td>Global</td>\n      <td>https://www.hycom.org/component/search/?search...</td>\n    </tr>\n    <tr>\n      <th>9</th>\n      <td>Salinity</td>\n      <td>Raster</td>\n      <td>Marine</td>\n      <td>Global</td>\n      <td>https://www.hycom.org/component/search/?search...</td>\n    </tr>\n    <tr>\n      <th>13</th>\n      <td>Elevation</td>\n      <td>Raster</td>\n      <td>Terrestrial</td>\n      <td>Global</td>\n      <td>https://cmr.earthdata.nasa.gov/search/concepts...</td>\n    </tr>\n    <tr>\n      <th>14</th>\n      <td>Surface Water</td>\n      <td>Raster</td>\n      <td>Riparian</td>\n      <td>Global</td>\n      <td>https://global-surface-water.appspot.com/</td>\n    </tr>\n    <tr>\n      <th>16</th>\n      <td>Sea-Level Pressure</td>\n      <td>NetCDF4</td>\n      <td>Marine</td>\n      <td>Global</td>\n      <td>https://psl.noaa.gov/mddb2/makePlot.html?varia...</td>\n    </tr>\n    <tr>\n      <th>17</th>\n      <td>Global sea level change</td>\n      <td>NetCDF5</td>\n      <td>Marine</td>\n      <td>Global</td>\n      <td>https://cds.climate.copernicus.eu/cdsapp#!/dat...</td>\n    </tr>\n  </tbody>\n</table>\n</div>\n    <div class=\"colab-df-buttons\">\n\n  <div class=\"colab-df-container\">\n    <button class=\"colab-df-convert\" onclick=\"convertToInteractive('df-43529849-6465-4c6a-84e8-402f89ef9374')\"\n            title=\"Convert this dataframe to an interactive table.\"\n            style=\"display:none;\">\n\n  <svg xmlns=\"http://www.w3.org/2000/svg\" height=\"24px\" viewBox=\"0 -960 960 960\">\n    <path d=\"M120-120v-720h720v720H120Zm60-500h600v-160H180v160Zm220 220h160v-160H400v160Zm0 220h160v-160H400v160ZM180-400h160v-160H180v160Zm440 0h160v-160H620v160ZM180-180h160v-160H180v160Zm440 0h160v-160H620v160Z\"/>\n  </svg>\n    </button>\n\n  <style>\n    .colab-df-container {\n      display:flex;\n      gap: 12px;\n    }\n\n    .colab-df-convert {\n      background-color: #E8F0FE;\n      border: none;\n      border-radius: 50%;\n      cursor: pointer;\n      display: none;\n      fill: #1967D2;\n      height: 32px;\n      padding: 0 0 0 0;\n      width: 32px;\n    }\n\n    .colab-df-convert:hover {\n      background-color: #E2EBFA;\n      box-shadow: 0px 1px 2px rgba(60, 64, 67, 0.3), 0px 1px 3px 1px rgba(60, 64, 67, 0.15);\n      fill: #174EA6;\n    }\n\n    .colab-df-buttons div {\n      margin-bottom: 4px;\n    }\n\n    [theme=dark] .colab-df-convert {\n      background-color: #3B4455;\n      fill: #D2E3FC;\n    }\n\n    [theme=dark] .colab-df-convert:hover {\n      background-color: #434B5C;\n      box-shadow: 0px 1px 3px 1px rgba(0, 0, 0, 0.15);\n      filter: drop-shadow(0px 1px 2px rgba(0, 0, 0, 0.3));\n      fill: #FFFFFF;\n    }\n  </style>\n\n    <script>\n      const buttonEl =\n        document.querySelector('#df-43529849-6465-4c6a-84e8-402f89ef9374 button.colab-df-convert');\n      buttonEl.style.display =\n        google.colab.kernel.accessAllowed ? 'block' : 'none';\n\n      async function convertToInteractive(key) {\n        const element = document.querySelector('#df-43529849-6465-4c6a-84e8-402f89ef9374');\n        const dataTable =\n          await google.colab.kernel.invokeFunction('convertToInteractive',\n                                                    [key], {});\n        if (!dataTable) return;\n\n        const docLinkHtml = 'Like what you see? Visit the ' +\n          '<a target=\"_blank\" href=https://colab.research.google.com/notebooks/data_table.ipynb>data table notebook</a>'\n          + ' to learn more about interactive tables.';\n        element.innerHTML = '';\n        dataTable['output_type'] = 'display_data';\n        await google.colab.output.renderOutput(dataTable, element);\n        const docLink = document.createElement('div');\n        docLink.innerHTML = docLinkHtml;\n        element.appendChild(docLink);\n      }\n    </script>\n  </div>\n\n\n<div id=\"df-7a61cb78-1fa2-418f-b026-d45c5657f048\">\n  <button class=\"colab-df-quickchart\" onclick=\"quickchart('df-7a61cb78-1fa2-418f-b026-d45c5657f048')\"\n            title=\"Suggest charts\"\n            style=\"display:none;\">\n\n<svg xmlns=\"http://www.w3.org/2000/svg\" height=\"24px\"viewBox=\"0 0 24 24\"\n     width=\"24px\">\n    <g>\n        <path d=\"M19 3H5c-1.1 0-2 .9-2 2v14c0 1.1.9 2 2 2h14c1.1 0 2-.9 2-2V5c0-1.1-.9-2-2-2zM9 17H7v-7h2v7zm4 0h-2V7h2v10zm4 0h-2v-4h2v4z\"/>\n    </g>\n</svg>\n  </button>\n\n<style>\n  .colab-df-quickchart {\n      --bg-color: #E8F0FE;\n      --fill-color: #1967D2;\n      --hover-bg-color: #E2EBFA;\n      --hover-fill-color: #174EA6;\n      --disabled-fill-color: #AAA;\n      --disabled-bg-color: #DDD;\n  }\n\n  [theme=dark] .colab-df-quickchart {\n      --bg-color: #3B4455;\n      --fill-color: #D2E3FC;\n      --hover-bg-color: #434B5C;\n      --hover-fill-color: #FFFFFF;\n      --disabled-bg-color: #3B4455;\n      --disabled-fill-color: #666;\n  }\n\n  .colab-df-quickchart {\n    background-color: var(--bg-color);\n    border: none;\n    border-radius: 50%;\n    cursor: pointer;\n    display: none;\n    fill: var(--fill-color);\n    height: 32px;\n    padding: 0;\n    width: 32px;\n  }\n\n  .colab-df-quickchart:hover {\n    background-color: var(--hover-bg-color);\n    box-shadow: 0 1px 2px rgba(60, 64, 67, 0.3), 0 1px 3px 1px rgba(60, 64, 67, 0.15);\n    fill: var(--button-hover-fill-color);\n  }\n\n  .colab-df-quickchart-complete:disabled,\n  .colab-df-quickchart-complete:disabled:hover {\n    background-color: var(--disabled-bg-color);\n    fill: var(--disabled-fill-color);\n    box-shadow: none;\n  }\n\n  .colab-df-spinner {\n    border: 2px solid var(--fill-color);\n    border-color: transparent;\n    border-bottom-color: var(--fill-color);\n    animation:\n      spin 1s steps(1) infinite;\n  }\n\n  @keyframes spin {\n    0% {\n      border-color: transparent;\n      border-bottom-color: var(--fill-color);\n      border-left-color: var(--fill-color);\n    }\n    20% {\n      border-color: transparent;\n      border-left-color: var(--fill-color);\n      border-top-color: var(--fill-color);\n    }\n    30% {\n      border-color: transparent;\n      border-left-color: var(--fill-color);\n      border-top-color: var(--fill-color);\n      border-right-color: var(--fill-color);\n    }\n    40% {\n      border-color: transparent;\n      border-right-color: var(--fill-color);\n      border-top-color: var(--fill-color);\n    }\n    60% {\n      border-color: transparent;\n      border-right-color: var(--fill-color);\n    }\n    80% {\n      border-color: transparent;\n      border-right-color: var(--fill-color);\n      border-bottom-color: var(--fill-color);\n    }\n    90% {\n      border-color: transparent;\n      border-bottom-color: var(--fill-color);\n    }\n  }\n</style>\n\n  <script>\n    async function quickchart(key) {\n      const quickchartButtonEl =\n        document.querySelector('#' + key + ' button');\n      quickchartButtonEl.disabled = true;  // To prevent multiple clicks.\n      quickchartButtonEl.classList.add('colab-df-spinner');\n      try {\n        const charts = await google.colab.kernel.invokeFunction(\n            'suggestCharts', [key], {});\n      } catch (error) {\n        console.error('Error during call to suggestCharts:', error);\n      }\n      quickchartButtonEl.classList.remove('colab-df-spinner');\n      quickchartButtonEl.classList.add('colab-df-quickchart-complete');\n    }\n    (() => {\n      let quickchartButtonEl =\n        document.querySelector('#df-7a61cb78-1fa2-418f-b026-d45c5657f048 button');\n      quickchartButtonEl.style.display =\n        google.colab.kernel.accessAllowed ? 'block' : 'none';\n    })();\n  </script>\n</div>\n\n    </div>\n  </div>\n",
                  "application/vnd.google.colaboratory.intrinsic+json": {
                    "type": "dataframe",
                    "summary": "{\n  \"name\": \"display(widgets\",\n  \"rows\": 11,\n  \"fields\": [\n    {\n      \"column\": \"Variable\",\n      \"properties\": {\n        \"dtype\": \"string\",\n        \"num_unique_values\": 11,\n        \"samples\": [\n          \"Water Temperature\",\n          \"Ocean Color\",\n          \"Sea-Level Pressure\"\n        ],\n        \"semantic_type\": \"\",\n        \"description\": \"\"\n      }\n    },\n    {\n      \"column\": \"Type\",\n      \"properties\": {\n        \"dtype\": \"category\",\n        \"num_unique_values\": 3,\n        \"samples\": [\n          \"Raster\",\n          \"NetCDF4\",\n          \"NetCDF5\"\n        ],\n        \"semantic_type\": \"\",\n        \"description\": \"\"\n      }\n    },\n    {\n      \"column\": \"Habitat\",\n      \"properties\": {\n        \"dtype\": \"category\",\n        \"num_unique_values\": 3,\n        \"samples\": [\n          \"Marine\",\n          \"Riparian\",\n          \"Terrestrial\"\n        ],\n        \"semantic_type\": \"\",\n        \"description\": \"\"\n      }\n    },\n    {\n      \"column\": \"Extent\",\n      \"properties\": {\n        \"dtype\": \"category\",\n        \"num_unique_values\": 1,\n        \"samples\": [\n          \"Global\"\n        ],\n        \"semantic_type\": \"\",\n        \"description\": \"\"\n      }\n    },\n    {\n      \"column\": \"Link\",\n      \"properties\": {\n        \"dtype\": \"string\",\n        \"num_unique_values\": 9,\n        \"samples\": [\n          \"https://psl.noaa.gov/mddb2/makePlot.html?variableID=158422&fileID=1449963\"\n        ],\n        \"semantic_type\": \"\",\n        \"description\": \"\"\n      }\n    }\n  ]\n}"
                  }
                },
                "metadata": {}
              }
            ]
          }
        },
        "85946b267fe4478bb25720819410f21e": {
          "model_module": "@jupyter-widgets/base",
          "model_name": "LayoutModel",
          "model_module_version": "1.2.0",
          "state": {
            "_model_module": "@jupyter-widgets/base",
            "_model_module_version": "1.2.0",
            "_model_name": "LayoutModel",
            "_view_count": null,
            "_view_module": "@jupyter-widgets/base",
            "_view_module_version": "1.2.0",
            "_view_name": "LayoutView",
            "align_content": null,
            "align_items": null,
            "align_self": null,
            "border": null,
            "bottom": null,
            "display": null,
            "flex": null,
            "flex_flow": null,
            "grid_area": null,
            "grid_auto_columns": null,
            "grid_auto_flow": null,
            "grid_auto_rows": null,
            "grid_column": null,
            "grid_gap": null,
            "grid_row": null,
            "grid_template_areas": null,
            "grid_template_columns": null,
            "grid_template_rows": null,
            "height": null,
            "justify_content": null,
            "justify_items": null,
            "left": null,
            "margin": null,
            "max_height": null,
            "max_width": null,
            "min_height": null,
            "min_width": null,
            "object_fit": null,
            "object_position": null,
            "order": null,
            "overflow": null,
            "overflow_x": null,
            "overflow_y": null,
            "padding": null,
            "right": null,
            "top": null,
            "visibility": null,
            "width": null
          }
        },
        "98a2547695984f44a41482762aff3705": {
          "model_module": "@jupyter-widgets/base",
          "model_name": "LayoutModel",
          "model_module_version": "1.2.0",
          "state": {
            "_model_module": "@jupyter-widgets/base",
            "_model_module_version": "1.2.0",
            "_model_name": "LayoutModel",
            "_view_count": null,
            "_view_module": "@jupyter-widgets/base",
            "_view_module_version": "1.2.0",
            "_view_name": "LayoutView",
            "align_content": null,
            "align_items": null,
            "align_self": null,
            "border": null,
            "bottom": null,
            "display": null,
            "flex": null,
            "flex_flow": null,
            "grid_area": null,
            "grid_auto_columns": null,
            "grid_auto_flow": null,
            "grid_auto_rows": null,
            "grid_column": null,
            "grid_gap": null,
            "grid_row": null,
            "grid_template_areas": null,
            "grid_template_columns": null,
            "grid_template_rows": null,
            "height": null,
            "justify_content": null,
            "justify_items": null,
            "left": null,
            "margin": null,
            "max_height": null,
            "max_width": null,
            "min_height": null,
            "min_width": null,
            "object_fit": null,
            "object_position": null,
            "order": null,
            "overflow": null,
            "overflow_x": null,
            "overflow_y": null,
            "padding": null,
            "right": null,
            "top": null,
            "visibility": null,
            "width": null
          }
        },
        "4186940421144967a7f544316f941c21": {
          "model_module": "@jupyter-widgets/controls",
          "model_name": "DescriptionStyleModel",
          "model_module_version": "1.5.0",
          "state": {
            "_model_module": "@jupyter-widgets/controls",
            "_model_module_version": "1.5.0",
            "_model_name": "DescriptionStyleModel",
            "_view_count": null,
            "_view_module": "@jupyter-widgets/base",
            "_view_module_version": "1.2.0",
            "_view_name": "StyleView",
            "description_width": ""
          }
        },
        "b0833bcfebad4b988fe863b38264d9ee": {
          "model_module": "@jupyter-widgets/base",
          "model_name": "LayoutModel",
          "model_module_version": "1.2.0",
          "state": {
            "_model_module": "@jupyter-widgets/base",
            "_model_module_version": "1.2.0",
            "_model_name": "LayoutModel",
            "_view_count": null,
            "_view_module": "@jupyter-widgets/base",
            "_view_module_version": "1.2.0",
            "_view_name": "LayoutView",
            "align_content": null,
            "align_items": null,
            "align_self": null,
            "border": null,
            "bottom": null,
            "display": null,
            "flex": null,
            "flex_flow": null,
            "grid_area": null,
            "grid_auto_columns": null,
            "grid_auto_flow": null,
            "grid_auto_rows": null,
            "grid_column": null,
            "grid_gap": null,
            "grid_row": null,
            "grid_template_areas": null,
            "grid_template_columns": null,
            "grid_template_rows": null,
            "height": null,
            "justify_content": null,
            "justify_items": null,
            "left": null,
            "margin": null,
            "max_height": null,
            "max_width": null,
            "min_height": null,
            "min_width": null,
            "object_fit": null,
            "object_position": null,
            "order": null,
            "overflow": null,
            "overflow_x": null,
            "overflow_y": null,
            "padding": null,
            "right": null,
            "top": null,
            "visibility": null,
            "width": null
          }
        },
        "7f28d6d213754a89a1f3e6c4573348b9": {
          "model_module": "@jupyter-widgets/controls",
          "model_name": "DescriptionStyleModel",
          "model_module_version": "1.5.0",
          "state": {
            "_model_module": "@jupyter-widgets/controls",
            "_model_module_version": "1.5.0",
            "_model_name": "DescriptionStyleModel",
            "_view_count": null,
            "_view_module": "@jupyter-widgets/base",
            "_view_module_version": "1.2.0",
            "_view_name": "StyleView",
            "description_width": ""
          }
        },
        "c650113386fb450bb028ecd126f276de": {
          "model_module": "@jupyter-widgets/base",
          "model_name": "LayoutModel",
          "model_module_version": "1.2.0",
          "state": {
            "_model_module": "@jupyter-widgets/base",
            "_model_module_version": "1.2.0",
            "_model_name": "LayoutModel",
            "_view_count": null,
            "_view_module": "@jupyter-widgets/base",
            "_view_module_version": "1.2.0",
            "_view_name": "LayoutView",
            "align_content": null,
            "align_items": null,
            "align_self": null,
            "border": null,
            "bottom": null,
            "display": null,
            "flex": null,
            "flex_flow": null,
            "grid_area": null,
            "grid_auto_columns": null,
            "grid_auto_flow": null,
            "grid_auto_rows": null,
            "grid_column": null,
            "grid_gap": null,
            "grid_row": null,
            "grid_template_areas": null,
            "grid_template_columns": null,
            "grid_template_rows": null,
            "height": null,
            "justify_content": null,
            "justify_items": null,
            "left": null,
            "margin": null,
            "max_height": null,
            "max_width": null,
            "min_height": null,
            "min_width": null,
            "object_fit": null,
            "object_position": null,
            "order": null,
            "overflow": null,
            "overflow_x": null,
            "overflow_y": null,
            "padding": null,
            "right": null,
            "top": null,
            "visibility": null,
            "width": null
          }
        },
        "56a4186d148d49ad9fd2e194210a8cc4": {
          "model_module": "@jupyter-widgets/controls",
          "model_name": "ButtonStyleModel",
          "model_module_version": "1.5.0",
          "state": {
            "_model_module": "@jupyter-widgets/controls",
            "_model_module_version": "1.5.0",
            "_model_name": "ButtonStyleModel",
            "_view_count": null,
            "_view_module": "@jupyter-widgets/base",
            "_view_module_version": "1.2.0",
            "_view_name": "StyleView",
            "button_color": null,
            "font_weight": ""
          }
        },
        "3a3dd46eeb0049ba966882fcdf2cbebd": {
          "model_module": "@jupyter-widgets/base",
          "model_name": "LayoutModel",
          "model_module_version": "1.2.0",
          "state": {
            "_model_module": "@jupyter-widgets/base",
            "_model_module_version": "1.2.0",
            "_model_name": "LayoutModel",
            "_view_count": null,
            "_view_module": "@jupyter-widgets/base",
            "_view_module_version": "1.2.0",
            "_view_name": "LayoutView",
            "align_content": null,
            "align_items": null,
            "align_self": null,
            "border": null,
            "bottom": null,
            "display": null,
            "flex": null,
            "flex_flow": null,
            "grid_area": null,
            "grid_auto_columns": null,
            "grid_auto_flow": null,
            "grid_auto_rows": null,
            "grid_column": null,
            "grid_gap": null,
            "grid_row": null,
            "grid_template_areas": null,
            "grid_template_columns": null,
            "grid_template_rows": null,
            "height": null,
            "justify_content": null,
            "justify_items": null,
            "left": null,
            "margin": null,
            "max_height": null,
            "max_width": null,
            "min_height": null,
            "min_width": null,
            "object_fit": null,
            "object_position": null,
            "order": null,
            "overflow": null,
            "overflow_x": null,
            "overflow_y": null,
            "padding": null,
            "right": null,
            "top": null,
            "visibility": null,
            "width": null
          }
        }
      }
    }
  },
  "cells": [
    {
      "cell_type": "markdown",
      "metadata": {
        "id": "view-in-github",
        "colab_type": "text"
      },
      "source": [
        "<a href=\"https://colab.research.google.com/github/mschappert/WCS-Decision-Tree/blob/main/WCS_Test_AGS.ipynb\" target=\"_parent\"><img src=\"https://colab.research.google.com/assets/colab-badge.svg\" alt=\"Open In Colab\"/></a>"
      ]
    },
    {
      "cell_type": "markdown",
      "source": [
        "##Wildlife Conservation Seminar - Spring 2024\n",
        "\n",
        "This is a test for an excel workbook to GUI.\n",
        "\n",
        "Created by Apple Gould-Schultz agouldschultz@clarku.edu"
      ],
      "metadata": {
        "id": "uAb38jrFjLfs"
      }
    },
    {
      "cell_type": "markdown",
      "source": [
        "###Install Packages\n",
        "\n",
        "Skip if already have packages installed. If installing for the first time, restart runtime after running the following cell."
      ],
      "metadata": {
        "id": "orjH0LUVkS4V"
      }
    },
    {
      "cell_type": "code",
      "execution_count": null,
      "metadata": {
        "id": "CLxwharkSkDh"
      },
      "outputs": [],
      "source": [
        "%%capture\n",
        "!pip install pandas\n",
        "!pip install ipywidgets"
      ]
    },
    {
      "cell_type": "markdown",
      "source": [
        "\n",
        "\n",
        "###Import Packages"
      ],
      "metadata": {
        "id": "zWTAhnC8khXZ"
      }
    },
    {
      "cell_type": "code",
      "source": [
        "import pandas as pd\n",
        "import ipywidgets as widgets\n",
        "from IPython.display import display, clear_output"
      ],
      "metadata": {
        "id": "M4KwtksqkP2W"
      },
      "execution_count": 1,
      "outputs": []
    },
    {
      "cell_type": "markdown",
      "source": [
        "###Define search function"
      ],
      "metadata": {
        "id": "EVEn85iek8zR"
      }
    },
    {
      "cell_type": "code",
      "source": [
        "def search(b=None):\n",
        "    keywords = entry.value.lower().split()  # Convert input string to lowercase and split into individual keywords\n",
        "    # Clear previous result\n",
        "    with output:\n",
        "        clear_output(wait=True)\n",
        "        # Create an empty list to store the matching rows\n",
        "        matching_rows = []\n",
        "        for index, row in df.iterrows():\n",
        "            # Check if any cell in the row contains any of the search keywords (case-insensitive)\n",
        "            if any(keyword in str(cell).lower() for cell in row for keyword in keywords):\n",
        "                # If a match is found, replace NaN values with blank cells\n",
        "                row = row.fillna('')\n",
        "                # Add the modified row to the list\n",
        "                matching_rows.append(row)\n",
        "        # Create a DataFrame from the list of matching rows\n",
        "        if matching_rows:\n",
        "            results = pd.concat(matching_rows, axis=1).transpose()\n",
        "            # Select only the first four columns\n",
        "            results = results.iloc[:, :5]\n",
        "            # Display the results\n",
        "            display(results)\n",
        "        else:\n",
        "            print(\"No matching results found.\")"
      ],
      "metadata": {
        "id": "DiJL8cFhkCIu"
      },
      "execution_count": 6,
      "outputs": []
    },
    {
      "cell_type": "markdown",
      "source": [
        "###Read worksheet into data frame\n",
        "\n",
        "Make sure the worksheet is available either through Google Drive or uploaded to files. For this example, the file has been uploaded locally."
      ],
      "metadata": {
        "id": "ioOXwTXPomfQ"
      }
    },
    {
      "cell_type": "code",
      "source": [
        "# Read Excel data into DataFrame\n",
        "# Replace with the path to your Excel file\n",
        "df = pd.read_excel(r\"wcs_test1.xlsx\")\n",
        "print(\"DataFrame successfully created.\") if df is not None else print(\"Failed to create DataFrame.\")"
      ],
      "metadata": {
        "colab": {
          "base_uri": "https://localhost:8080/"
        },
        "id": "56jtGNIgoIpD",
        "outputId": "4aaa9377-340f-47e6-88ba-ec7bd10178fc"
      },
      "execution_count": 4,
      "outputs": [
        {
          "output_type": "stream",
          "name": "stdout",
          "text": [
            "DataFrame successfully created.\n"
          ]
        }
      ]
    },
    {
      "cell_type": "markdown",
      "source": [
        "###Create GUI"
      ],
      "metadata": {
        "id": "glUhTW_nokIc"
      }
    },
    {
      "cell_type": "code",
      "source": [
        "# Create GUI elements\n",
        "label = widgets.Label(value=\"Search:\")\n",
        "entry = widgets.Text(placeholder=\"Enter keyword(s)\")\n",
        "button = widgets.Button(description=\"Search\")\n",
        "\n",
        "# Bind search function to button click event\n",
        "button.on_click(search)\n",
        "\n",
        "# Bind search function to Enter key press event\n",
        "entry.on_submit(search)\n",
        "\n",
        "# Create output area for displaying results\n",
        "output = widgets.Output()\n",
        "\n",
        "# Display GUI elements and output area\n",
        "display(widgets.VBox([label, entry, button, output]))"
      ],
      "metadata": {
        "colab": {
          "base_uri": "https://localhost:8080/",
          "height": 490,
          "referenced_widgets": [
            "5089c44c320941f890cbe8a56edac459",
            "7ee2da04150e4f23831064f694732b42",
            "e77f75bdf2e84621870c1be019db025c",
            "7c6dd9135b484960b07871606cff629d",
            "47634c9433ba4d5da33ec83e5d423abe",
            "85946b267fe4478bb25720819410f21e",
            "98a2547695984f44a41482762aff3705",
            "4186940421144967a7f544316f941c21",
            "b0833bcfebad4b988fe863b38264d9ee",
            "7f28d6d213754a89a1f3e6c4573348b9",
            "c650113386fb450bb028ecd126f276de",
            "56a4186d148d49ad9fd2e194210a8cc4",
            "3a3dd46eeb0049ba966882fcdf2cbebd"
          ]
        },
        "id": "c1U4JBtfoj9G",
        "outputId": "24b7fe3e-a3d5-44f2-c044-13f2a7571f08"
      },
      "execution_count": 7,
      "outputs": [
        {
          "output_type": "display_data",
          "data": {
            "text/plain": [
              "VBox(children=(Label(value='Search:'), Text(value='', placeholder='Enter keyword(s)'), Button(description='Sea…"
            ],
            "application/vnd.jupyter.widget-view+json": {
              "version_major": 2,
              "version_minor": 0,
              "model_id": "5089c44c320941f890cbe8a56edac459"
            }
          },
          "metadata": {}
        }
      ]
    },
    {
      "cell_type": "markdown",
      "source": [
        "- need to display full link\n",
        "- website?\n",
        "- want sea to not bring up search (eg: elevation coming up with sea water look up)\n",
        "- github"
      ],
      "metadata": {
        "id": "kqvwsxvdlXoo"
      }
    }
  ]
}